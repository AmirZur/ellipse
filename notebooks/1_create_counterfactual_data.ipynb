{
 "cells": [
  {
   "cell_type": "markdown",
   "metadata": {},
   "source": [
    "# Create counterfactual data\n",
    "\n",
    "This notebook walks through two custom functions for creating a counterfactual data that lets us localize a high level variable (circularity, color, or area) in a neural network.\n",
    "\n",
    "It goes through:\n",
    "1. **Single source counterfactual**: one source for many variables\n",
    "2. **Multi-source counterfactual**: different sources for different variables"
   ]
  },
  {
   "cell_type": "code",
   "execution_count": null,
   "metadata": {},
   "outputs": [],
   "source": [
    "!pip install -r requirements.txt"
   ]
  },
  {
   "cell_type": "code",
   "execution_count": 1,
   "metadata": {},
   "outputs": [],
   "source": [
    "%load_ext autoreload\n",
    "%autoreload 2"
   ]
  },
  {
   "cell_type": "code",
   "execution_count": 2,
   "metadata": {},
   "outputs": [],
   "source": [
    "import random\n",
    "import numpy as np\n",
    "import torch\n",
    "\n",
    "random.seed(42)\n",
    "np.random.seed(42)\n",
    "_ = torch.manual_seed(42)\n",
    "# _ = torch.cuda.manual_seed(42) # only if using GPU"
   ]
  },
  {
   "cell_type": "markdown",
   "metadata": {},
   "source": [
    "## 1. Single source counterfactual: one source for many variables\n",
    "\n",
    "This counterfactual data can help us map a subspace of neurons that localize a *combination* of variables (e.g., neurons 54-62 localize circularity & color together)."
   ]
  },
  {
   "cell_type": "code",
   "execution_count": 3,
   "metadata": {},
   "outputs": [],
   "source": [
    "# example variables that we want to localize/intervene on\n",
    "variables = [0, 1]"
   ]
  },
  {
   "cell_type": "code",
   "execution_count": 4,
   "metadata": {},
   "outputs": [],
   "source": [
    "from data_utils import create_dataset\n",
    "from counterfactual_data_utils import create_single_source_counterfactual_dataset\n",
    "\n",
    "# first, create base dataset\n",
    "n_train = 10000\n",
    "images, labels = create_dataset(n_train)\n",
    "coefficients = np.array([0.4, 0.4, 0.4])\n",
    "\n",
    "# create single source counterfactual dataset\n",
    "# NOTE: the counterfactual dataset can be made much larger than the base dataset, bc it consists of 10000 x 10000 pairs of possible samples\n",
    "X_base, X_sources, y_base, y_sources, y_counterfactual, base_labels, source_labels = create_single_source_counterfactual_dataset(\n",
    "    variables, images, labels, coefficients, size=50000, return_labels=True\n",
    ")"
   ]
  },
  {
   "cell_type": "markdown",
   "metadata": {},
   "source": [
    "Visualizing an example base-source pair and resulting labels. *(Note: I use `R` to refer to \"roundness\" or circularity)*"
   ]
  },
  {
   "cell_type": "code",
   "execution_count": 5,
   "metadata": {},
   "outputs": [],
   "source": [
    "# toggle i to see different examples\n",
    "i = 42"
   ]
  },
  {
   "cell_type": "code",
   "execution_count": 6,
   "metadata": {},
   "outputs": [
    {
     "data": {
      "image/png": "[encoded data removed]",
      "text/plain": [
       "<Figure size 640x480 with 2 Axes>"
      ]
     },
     "metadata": {},
     "output_type": "display_data"
    }
   ],
   "source": [
    "# Print elements from the data set and their labels under various weights to make sure everything is kosher\n",
    "import matplotlib.pyplot as plt\n",
    "\n",
    "# Set up the figure and axes for plotting\n",
    "fig, axes = plt.subplots(1, 2)  # 2 rows, 5 columns, adjust size as needed\n",
    "\n",
    "# Flatten the axes array for easier indexing with a flat loop\n",
    "axes = axes.flatten()\n",
    "\n",
    "_ = axes[0].imshow(X_base[i].squeeze(), cmap='gray', interpolation='nearest', vmin=0, vmax=1)\n",
    "_ = axes[0].set_title(f'Base\\nR:{round(base_labels[i][0].item(), 2)} C:{round(base_labels[i][1].item(), 2)} A:{round(base_labels[i][2].item(), 2)}')\n",
    "_ = axes[1].imshow(X_sources[0][i].squeeze(), cmap='gray', interpolation='nearest', vmin=0, vmax=1)\n",
    "_ = axes[1].set_title(f'Source (R & C)\\nR:{round(source_labels[0][i][0].item(), 2)} C:{round(source_labels[0][i][1].item(), 2)} A:{round(source_labels[0][i][2].item(), 2)}')"
   ]
  },
  {
   "cell_type": "markdown",
   "metadata": {},
   "source": [
    "The label is computed by taking a weighted sum, where the values for `R` (circularity) and `C` (color) come from the source, and the value for the remaining variable (area) comes from the base."
   ]
  },
  {
   "cell_type": "code",
   "execution_count": 7,
   "metadata": {},
   "outputs": [
    {
     "name": "stdout",
     "output_type": "stream",
     "text": [
      "Base label: 0.4 * 0.23 + 0.4 * 0.93 + 0.4 * 0.58 > 0.6 --> 1.0\n",
      "Source (R & C) label: 0.4 * 0.36 + 0.4 * 0.43 + 0.4 * 0.57 > 0.6 --> 0.0\n",
      "\n",
      "Counterfactual label: 0.4 * 0.36 + 0.4 * 0.43 + 0.4 * 0.58 > 0.6 --> 0.0\n"
     ]
    }
   ],
   "source": [
    "print(f'Base label: 0.4 * {round(base_labels[i][0].item(), 2)} + 0.4 * {round(base_labels[i][1].item(), 2)} + 0.4 * {round(base_labels[i][2].item(), 2)} > 0.6 --> {y_base[i].item()}')\n",
    "print(f'Source (R & C) label: 0.4 * {round(source_labels[0][i][0].item(), 2)} + 0.4 * {round(source_labels[0][i][1].item(), 2)} + 0.4 * {round(source_labels[0][i][2].item(), 2)} > 0.6 --> {y_sources[0][i].item()}')\n",
    "print()\n",
    "print(f'Counterfactual label: 0.4 * {round(source_labels[0][i][0].item(), 2)} + 0.4 * {round(source_labels[0][i][1].item(), 2)} + 0.4 * {round(base_labels[i][2].item(), 2)} > 0.6 --> {y_counterfactual[i].item()}')"
   ]
  },
  {
   "cell_type": "markdown",
   "metadata": {},
   "source": [
    "Sanity check: labels are balanced in counterfactual dataset"
   ]
  },
  {
   "cell_type": "code",
   "execution_count": 8,
   "metadata": {},
   "outputs": [
    {
     "name": "stdout",
     "output_type": "stream",
     "text": [
      "Rate of positive base examples: 0.500\n",
      "Rate of positive source examples (R & C): 0.502\n",
      "Rate of positive counterfactual examples: 0.500\n"
     ]
    }
   ],
   "source": [
    "print(f'Rate of positive base examples: {y_base.mean().item():.3f}', )\n",
    "print(f'Rate of positive source examples (R & C): {y_sources[0].mean().item():.3f}')\n",
    "print(f'Rate of positive counterfactual examples: {y_counterfactual.mean().item():.3f}')"
   ]
  },
  {
   "cell_type": "markdown",
   "metadata": {},
   "source": [
    "## 2. Multi-source counterfactual: different sources for different variables\n",
    "\n",
    "Multi-source interventions can help *disentangle* the neural representations of multiple variables (e.g., neurons 54-58 localize circularity, neurons 58-62 localize color)."
   ]
  },
  {
   "cell_type": "code",
   "execution_count": 9,
   "metadata": {},
   "outputs": [],
   "source": [
    "# example variables that we want to localize/intervene on\n",
    "variables = [0, 1]"
   ]
  },
  {
   "cell_type": "code",
   "execution_count": 10,
   "metadata": {},
   "outputs": [],
   "source": [
    "from data_utils import create_dataset\n",
    "from counterfactual_data_utils import create_multi_source_counterfactual_dataset\n",
    "\n",
    "# first, create base dataset\n",
    "n_train = 10000\n",
    "images, labels = create_dataset(n_train)\n",
    "coefficients = np.array([0.4, 0.4, 0.4])\n",
    "\n",
    "# create multi-source counterfactual dataset\n",
    "X_base, X_sources, y_base, y_sources, y_counterfactual, base_labels, source_labels = create_multi_source_counterfactual_dataset(\n",
    "    variables, images, labels, coefficients, size=50000, return_labels=True\n",
    ")"
   ]
  },
  {
   "cell_type": "code",
   "execution_count": 11,
   "metadata": {},
   "outputs": [],
   "source": [
    "# toggle i to see different examples\n",
    "i = 42"
   ]
  },
  {
   "cell_type": "code",
   "execution_count": 12,
   "metadata": {},
   "outputs": [
    {
     "data": {
      "image/png": "[encoded data removed]",
      "text/plain": [
       "<Figure size 640x480 with 3 Axes>"
      ]
     },
     "metadata": {},
     "output_type": "display_data"
    }
   ],
   "source": [
    "# Print elements from the data set and their labels under various weights to make sure everything is kosher\n",
    "import matplotlib.pyplot as plt\n",
    "\n",
    "# Set up the figure and axes for plotting\n",
    "fig, axes = plt.subplots(1, 3)  # 2 rows, 5 columns, adjust size as needed\n",
    "\n",
    "# Flatten the axes array for easier indexing with a flat loop\n",
    "axes = axes.flatten()\n",
    "\n",
    "_ = axes[0].imshow(X_base[i].squeeze(), cmap='gray', interpolation='nearest', vmin=0, vmax=1)\n",
    "_ = axes[0].set_title(f'Base\\nR:{round(base_labels[i][0].item(), 2)} C:{round(base_labels[i][1].item(), 2)} A:{round(base_labels[i][2].item(), 2)}')\n",
    "_ = axes[1].imshow(X_sources[0][i].squeeze(), cmap='gray', interpolation='nearest', vmin=0, vmax=1)\n",
    "_ = axes[1].set_title(f'Source (R)\\nR:{round(source_labels[0][i][0].item(), 2)} C:{round(source_labels[0][i][1].item(), 2)} A:{round(source_labels[0][i][2].item(), 2)}')\n",
    "_ = axes[2].imshow(X_sources[1][i].squeeze(), cmap='gray', interpolation='nearest', vmin=0, vmax=1)\n",
    "_ = axes[2].set_title(f'Source (C)\\nR:{round(source_labels[1][i][0].item(), 2)} C:{round(source_labels[1][i][1].item(), 2)} A:{round(source_labels[1][i][2].item(), 2)}')"
   ]
  },
  {
   "cell_type": "markdown",
   "metadata": {},
   "source": [
    "The label is computed by taking a weighted sum, where the value for `R` (circularity) comes from the first source, the value for `C` (color) comes from the second source, and the value for the remaining variable (area) comes from the base."
   ]
  },
  {
   "cell_type": "code",
   "execution_count": 13,
   "metadata": {},
   "outputs": [
    {
     "name": "stdout",
     "output_type": "stream",
     "text": [
      "Base label: 0.4 * 0.01 + 0.4 * 0.46 + 0.4 * 0.24 > 0.6 --> 0.0\n",
      "Source (R) label: 0.4 * 0.66 + 0.4 * 0.12 + 0.4 * 0.92 > 0.6 --> 1.0\n",
      "Source (C) label: 0.4 * 0.39 + 0.4 * 0.98 + 0.4 * 0.68 > 0.6 --> 1.0\n",
      "\n",
      "Counterfactual label: 0.4 * 0.66 + 0.4 * 0.98 + 0.4 * 0.24 > 0.6 --> 1.0\n"
     ]
    }
   ],
   "source": [
    "print(f'Base label: 0.4 * {round(base_labels[i][0].item(), 2)} + 0.4 * {round(base_labels[i][1].item(), 2)} + 0.4 * {round(base_labels[i][2].item(), 2)} > 0.6 --> {y_base[i].item()}')\n",
    "print(f'Source (R) label: 0.4 * {round(source_labels[0][i][0].item(), 2)} + 0.4 * {round(source_labels[0][i][1].item(), 2)} + 0.4 * {round(source_labels[0][i][2].item(), 2)} > 0.6 --> {y_sources[0][i].item()}')\n",
    "print(f'Source (C) label: 0.4 * {round(source_labels[1][i][0].item(), 2)} + 0.4 * {round(source_labels[1][i][1].item(), 2)} + 0.4 * {round(source_labels[1][i][2].item(), 2)} > 0.6 --> {y_sources[1][i].item()}')\n",
    "print()\n",
    "print(f'Counterfactual label: 0.4 * {round(source_labels[0][i][0].item(), 2)} + 0.4 * {round(source_labels[1][i][1].item(), 2)} + 0.4 * {round(base_labels[i][2].item(), 2)} > 0.6 --> {y_counterfactual[i].item()}')"
   ]
  },
  {
   "cell_type": "markdown",
   "metadata": {},
   "source": [
    "Sanity check: labels are balanced in counterfactual dataset"
   ]
  },
  {
   "cell_type": "code",
   "execution_count": 14,
   "metadata": {},
   "outputs": [
    {
     "name": "stdout",
     "output_type": "stream",
     "text": [
      "Rate of positive base examples: 0.501\n",
      "Rate of positive sources (R): 0.501\n",
      "Rate of positive sources (C): 0.500\n",
      "Rate of positive counterfactual examples: 0.498\n"
     ]
    }
   ],
   "source": [
    "print(f'Rate of positive base examples: {y_base.mean().item():.3f}', )\n",
    "print(f'Rate of positive sources (R): {y_sources[0].mean().item():.3f}')\n",
    "print(f'Rate of positive sources (C): {y_sources[1].mean().item():.3f}')\n",
    "print(f'Rate of positive counterfactual examples: {y_counterfactual.mean().item():.3f}')"
   ]
  }
 ],
 "metadata": {
  "kernelspec": {
   "display_name": "pyvene",
   "language": "python",
   "name": "python3"
  },
  "language_info": {
   "codemirror_mode": {
    "name": "ipython",
    "version": 3
   },
   "file_extension": ".py",
   "mimetype": "text/x-python",
   "name": "python",
   "nbconvert_exporter": "python",
   "pygments_lexer": "ipython3",
   "version": "3.9.18"
  }
 },
 "nbformat": 4,
 "nbformat_minor": 2
}
