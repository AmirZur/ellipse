{
 "cells": [
  {
   "cell_type": "markdown",
   "metadata": {},
   "source": [
    "# Train and evaluate models\n",
    "\n",
    "This notebook is meant to standardize model training/evaluation for the base models of the experiments.\n",
    "\n",
    "It goes through\n",
    "1. Evaluating saved models on saved dataset\n",
    "2. Training new models on new dataset"
   ]
  },
  {
   "cell_type": "code",
   "execution_count": 1,
   "metadata": {},
   "outputs": [],
   "source": [
    "%load_ext autoreload\n",
    "%autoreload 2"
   ]
  },
  {
   "cell_type": "code",
   "execution_count": 2,
   "metadata": {},
   "outputs": [],
   "source": [
    "import random\n",
    "import numpy as np\n",
    "import torch\n",
    "\n",
    "random.seed(0)\n",
    "np.random.seed(0)\n",
    "_ = torch.manual_seed(0)\n",
    "# _ = torch.cuda.manual_seed(42) # only if using GPU"
   ]
  },
  {
   "cell_type": "markdown",
   "metadata": {},
   "source": [
    "### 1. Evaluating saved models\n",
    "\n",
    "For now, we create a new test dataset, because the `images.npy` file doesn't contain the labels (circularity, color, area) for the images."
   ]
  },
  {
   "cell_type": "code",
   "execution_count": 3,
   "metadata": {},
   "outputs": [],
   "source": [
    "# toggle i to select model to evaluate, toggle n_test to select number of test samples\n",
    "i = 1\n",
    "n_test = 1000"
   ]
  },
  {
   "cell_type": "markdown",
   "metadata": {},
   "source": [
    "Not very high accuracy... Maybe we need to check the tensorflow -> pytorch conversion?"
   ]
  },
  {
   "cell_type": "code",
   "execution_count": 4,
   "metadata": {},
   "outputs": [
    {
     "name": "stderr",
     "output_type": "stream",
     "text": [
      "Evaluating: 100%|██████████| 4/4 [00:00<00:00, 42.79it/s]"
     ]
    },
    {
     "name": "stdout",
     "output_type": "stream",
     "text": [
      "Accuracy: 0.4990\n"
     ]
    },
    {
     "name": "stderr",
     "output_type": "stream",
     "text": [
      "\n"
     ]
    }
   ],
   "source": [
    "from model_utils import PyTorchCNN, evaluate\n",
    "from data_utils import create_dataset\n",
    "\n",
    "# load model\n",
    "model = PyTorchCNN()\n",
    "model.load_state_dict(torch.load(f'pytorch_models/cnn_model_{i}.pth'))\n",
    "\n",
    "# create our own evaluation dataset\n",
    "images, labels = create_dataset(n_test)\n",
    "coefficients = np.array([0.4, 0.4, 0.4])\n",
    "\n",
    "# batch, channel, height, width\n",
    "X = torch.tensor(images.reshape((-1, 1, 28, 28))).float()\n",
    "y = torch.tensor(np.matmul(labels, coefficients) > 0.6).float()\n",
    "\n",
    "# evaluate model\n",
    "accuracy = evaluate(model, X, y)\n",
    "print(f'Accuracy: {accuracy:.4f}')"
   ]
  },
  {
   "cell_type": "markdown",
   "metadata": {},
   "source": [
    "### 2. Training new models\n",
    "\n",
    "I'm less familiar with tensorflow, so I created a simple function for training a pytorch model on the ellipse data."
   ]
  },
  {
   "cell_type": "code",
   "execution_count": 5,
   "metadata": {},
   "outputs": [],
   "source": [
    "# toggle n_train and n_test to select number of training/evaluation samples\n",
    "n_train = 50000\n",
    "n_test = 1000"
   ]
  },
  {
   "cell_type": "code",
   "execution_count": 6,
   "metadata": {},
   "outputs": [
    {
     "name": "stderr",
     "output_type": "stream",
     "text": [
      "Training (Epoch 1): 100%|██████████| 196/196 [00:08<00:00, 21.97it/s, loss=0.386]\n",
      "Training (Epoch 2): 100%|██████████| 196/196 [00:08<00:00, 21.80it/s, loss=0.243]\n",
      "Training (Epoch 3): 100%|██████████| 196/196 [00:10<00:00, 18.45it/s, loss=0.218]\n",
      "Training (Epoch 4): 100%|██████████| 196/196 [00:09<00:00, 20.37it/s, loss=0.203]\n",
      "Training (Epoch 5): 100%|██████████| 196/196 [00:09<00:00, 20.51it/s, loss=0.193]\n"
     ]
    }
   ],
   "source": [
    "from model_utils import PyTorchCNN, train\n",
    "\n",
    "# create our own training dataset\n",
    "images_train, labels_train = create_dataset(n_train)\n",
    "coefficients = np.array([0.4, 0.4, 0.4])\n",
    "\n",
    "# batch, channel, height, width\n",
    "X_train = torch.tensor(images_train.reshape((-1, 1, 28, 28))).float()\n",
    "y_train = torch.tensor(np.matmul(labels_train, coefficients) > 0.6).float()\n",
    "\n",
    "model = PyTorchCNN()\n",
    "train(model, X_train, y_train, lr=0.0001, num_epochs=5)"
   ]
  },
  {
   "cell_type": "markdown",
   "metadata": {},
   "source": [
    "The evaluation accuracy looks good! This suggests to me that maybe we're not loading the tensorflow weights correctly? Not sure..."
   ]
  },
  {
   "cell_type": "code",
   "execution_count": 7,
   "metadata": {},
   "outputs": [
    {
     "name": "stderr",
     "output_type": "stream",
     "text": [
      "Evaluating: 100%|██████████| 4/4 [00:00<00:00, 45.20it/s]"
     ]
    },
    {
     "name": "stdout",
     "output_type": "stream",
     "text": [
      "Accuracy: 0.9100\n"
     ]
    },
    {
     "name": "stderr",
     "output_type": "stream",
     "text": [
      "\n"
     ]
    }
   ],
   "source": [
    "from model_utils import evaluate\n",
    "\n",
    "# create our own evaluation dataset\n",
    "images_test, labels_test = create_dataset(n_test)\n",
    "coefficients = np.array([0.4, 0.4, 0.4])\n",
    "\n",
    "# batch, channel, height, width\n",
    "X_test = torch.tensor(images_test.reshape((-1, 1, 28, 28))).float()\n",
    "y_test = torch.tensor(np.matmul(labels_test, coefficients) > 0.6).float()\n",
    "\n",
    "accuracy = evaluate(model, X_test, y_test)\n",
    "print(f'Accuracy: {accuracy:.4f}')"
   ]
  },
  {
   "cell_type": "markdown",
   "metadata": {},
   "source": [
    "We'll use this model for the rest of our analysis"
   ]
  },
  {
   "cell_type": "code",
   "execution_count": 8,
   "metadata": {},
   "outputs": [],
   "source": [
    "torch.save(model.state_dict(), f'pytorch_models/amir_cnn_model.pth')"
   ]
  },
  {
   "cell_type": "code",
   "execution_count": 9,
   "metadata": {},
   "outputs": [
    {
     "name": "stderr",
     "output_type": "stream",
     "text": [
      "Evaluating: 100%|██████████| 4/4 [00:00<00:00, 48.11it/s]\n"
     ]
    },
    {
     "data": {
      "text/plain": [
       "0.9100000262260437"
      ]
     },
     "execution_count": 9,
     "metadata": {},
     "output_type": "execute_result"
    }
   ],
   "source": [
    "model = PyTorchCNN()\n",
    "model.load_state_dict(torch.load(f'pytorch_models/amir_cnn_model.pth'))\n",
    "\n",
    "evaluate(model, X_test, y_test)"
   ]
  }
 ],
 "metadata": {
  "kernelspec": {
   "display_name": "pyvene",
   "language": "python",
   "name": "python3"
  },
  "language_info": {
   "codemirror_mode": {
    "name": "ipython",
    "version": 3
   },
   "file_extension": ".py",
   "mimetype": "text/x-python",
   "name": "python",
   "nbconvert_exporter": "python",
   "pygments_lexer": "ipython3",
   "version": "3.9.18"
  }
 },
 "nbformat": 4,
 "nbformat_minor": 2
}
